{
 "cells": [
  {
   "cell_type": "code",
   "execution_count": 6,
   "metadata": {},
   "outputs": [],
   "source": [
    "import numpy as np\n",
    "from tensorflow import keras\n",
    "from sklearn.model_selection import train_test_split\n",
    "import glob\n",
    "import os\n"
   ]
  },
  {
   "cell_type": "code",
   "execution_count": 12,
   "metadata": {},
   "outputs": [
    {
     "ename": "ValueError",
     "evalue": "all the input array dimensions except for the concatenation axis must match exactly, but along dimension 1, the array at index 0 has size 144 and the array at index 1 has size 115",
     "output_type": "error",
     "traceback": [
      "\u001b[0;31m---------------------------------------------------------------------------\u001b[0m",
      "\u001b[0;31mValueError\u001b[0m                                Traceback (most recent call last)",
      "\u001b[1;32m/Users/mikaheelyamaguchi/Desktop/PBl５/Yoo/code/Saeed/train.ipynb Cell 2\u001b[0m in \u001b[0;36m1\n\u001b[1;32m      <a href='vscode-notebook-cell:/Users/mikaheelyamaguchi/Desktop/PBl%EF%BC%95/Yoo/code/Saeed/train.ipynb#W1sZmlsZQ%3D%3D?line=8'>9</a>\u001b[0m raw_data_files \u001b[39m=\u001b[39m glob\u001b[39m.\u001b[39mglob(\u001b[39mf\u001b[39m\u001b[39m\"\u001b[39m\u001b[39m{\u001b[39;00mdataset_path\u001b[39m}\u001b[39;00m\u001b[39m{\u001b[39;00maction\u001b[39m}\u001b[39;00m\u001b[39m/raw_*.npy\u001b[39m\u001b[39m\"\u001b[39m)\n\u001b[1;32m     <a href='vscode-notebook-cell:/Users/mikaheelyamaguchi/Desktop/PBl%EF%BC%95/Yoo/code/Saeed/train.ipynb#W1sZmlsZQ%3D%3D?line=9'>10</a>\u001b[0m seq_data_files \u001b[39m=\u001b[39m glob\u001b[39m.\u001b[39mglob(\u001b[39mf\u001b[39m\u001b[39m\"\u001b[39m\u001b[39m{\u001b[39;00mdataset_path\u001b[39m}\u001b[39;00m\u001b[39m{\u001b[39;00maction\u001b[39m}\u001b[39;00m\u001b[39m/seq_*.npy\u001b[39m\u001b[39m\"\u001b[39m)\n\u001b[0;32m---> <a href='vscode-notebook-cell:/Users/mikaheelyamaguchi/Desktop/PBl%EF%BC%95/Yoo/code/Saeed/train.ipynb#W1sZmlsZQ%3D%3D?line=11'>12</a>\u001b[0m raw_data \u001b[39m=\u001b[39m np\u001b[39m.\u001b[39;49mconcatenate([np\u001b[39m.\u001b[39;49mexpand_dims(np\u001b[39m.\u001b[39;49mload(file), axis\u001b[39m=\u001b[39;49m\u001b[39m0\u001b[39;49m) \u001b[39mfor\u001b[39;49;00m file \u001b[39min\u001b[39;49;00m raw_data_files], axis\u001b[39m=\u001b[39;49m\u001b[39m0\u001b[39;49m)\n\u001b[1;32m     <a href='vscode-notebook-cell:/Users/mikaheelyamaguchi/Desktop/PBl%EF%BC%95/Yoo/code/Saeed/train.ipynb#W1sZmlsZQ%3D%3D?line=12'>13</a>\u001b[0m seq_data \u001b[39m=\u001b[39m np\u001b[39m.\u001b[39mconcatenate([np\u001b[39m.\u001b[39mload(file) \u001b[39mfor\u001b[39;00m file \u001b[39min\u001b[39;00m seq_data_files], axis\u001b[39m=\u001b[39m\u001b[39m0\u001b[39m)\n\u001b[1;32m     <a href='vscode-notebook-cell:/Users/mikaheelyamaguchi/Desktop/PBl%EF%BC%95/Yoo/code/Saeed/train.ipynb#W1sZmlsZQ%3D%3D?line=14'>15</a>\u001b[0m max_seq_length \u001b[39m=\u001b[39m \u001b[39mmax\u001b[39m(max_seq_length, seq_data\u001b[39m.\u001b[39mshape[\u001b[39m0\u001b[39m])  \u001b[39m# Update the maximum sequence length\u001b[39;00m\n",
      "File \u001b[0;32m<__array_function__ internals>:200\u001b[0m, in \u001b[0;36mconcatenate\u001b[0;34m(*args, **kwargs)\u001b[0m\n",
      "\u001b[0;31mValueError\u001b[0m: all the input array dimensions except for the concatenation axis must match exactly, but along dimension 1, the array at index 0 has size 144 and the array at index 1 has size 115"
     ]
    }
   ],
   "source": [
    "# Prepare the data\n",
    "seq_length = 10\n",
    "X = []\n",
    "y = []\n",
    "\n",
    "max_seq_length = 0  # Track the maximum sequence length\n",
    "\n",
    "for action in actions:\n",
    "    raw_data_files = glob.glob(f\"{dataset_path}{action}/raw_*.npy\")\n",
    "    seq_data_files = glob.glob(f\"{dataset_path}{action}/seq_*.npy\")\n",
    "\n",
    "    raw_data = np.concatenate([np.expand_dims(np.load(file), axis=0) for file in raw_data_files], axis=0)\n",
    "    seq_data = np.concatenate([np.load(file) for file in seq_data_files], axis=0)\n",
    "\n",
    "    max_seq_length = max(max_seq_length, seq_data.shape[0])  # Update the maximum sequence length\n",
    "\n",
    "    X.append(raw_data)\n",
    "    y.append(seq_data)\n",
    "\n",
    "# Pad or truncate sequences to the maximum sequence length\n",
    "X = np.concatenate([np.pad(data, ((0, max_seq_length - data.shape[0]), (0, 0)), mode='constant') for data in X], axis=0)\n",
    "y = np.concatenate([np.pad(data, ((0, max_seq_length - data.shape[0]), (0, 0)), mode='constant') for data in y], axis=0)\n"
   ]
  },
  {
   "cell_type": "code",
   "execution_count": 5,
   "metadata": {},
   "outputs": [
    {
     "ename": "FileNotFoundError",
     "evalue": "[Errno 2] No such file or directory: 'dataset/raw_action1.npy'",
     "output_type": "error",
     "traceback": [
      "\u001b[0;31m---------------------------------------------------------------------------\u001b[0m",
      "\u001b[0;31mFileNotFoundError\u001b[0m                         Traceback (most recent call last)",
      "\u001b[1;32m/Users/mikaheelyamaguchi/Desktop/PBl５/Yoo/code/Saeed/train.ipynb Cell 3\u001b[0m in \u001b[0;36m7\n\u001b[1;32m      <a href='vscode-notebook-cell:/Users/mikaheelyamaguchi/Desktop/PBl%EF%BC%95/Yoo/code/Saeed/train.ipynb#W2sZmlsZQ%3D%3D?line=3'>4</a>\u001b[0m y \u001b[39m=\u001b[39m []\n\u001b[1;32m      <a href='vscode-notebook-cell:/Users/mikaheelyamaguchi/Desktop/PBl%EF%BC%95/Yoo/code/Saeed/train.ipynb#W2sZmlsZQ%3D%3D?line=5'>6</a>\u001b[0m \u001b[39mfor\u001b[39;00m action \u001b[39min\u001b[39;00m actions:\n\u001b[0;32m----> <a href='vscode-notebook-cell:/Users/mikaheelyamaguchi/Desktop/PBl%EF%BC%95/Yoo/code/Saeed/train.ipynb#W2sZmlsZQ%3D%3D?line=6'>7</a>\u001b[0m     raw_data \u001b[39m=\u001b[39m np\u001b[39m.\u001b[39;49mload(\u001b[39mf\u001b[39;49m\u001b[39m\"\u001b[39;49m\u001b[39m{\u001b[39;49;00mdataset_path\u001b[39m}\u001b[39;49;00m\u001b[39mraw_\u001b[39;49m\u001b[39m{\u001b[39;49;00maction\u001b[39m}\u001b[39;49;00m\u001b[39m.npy\u001b[39;49m\u001b[39m\"\u001b[39;49m)\n\u001b[1;32m      <a href='vscode-notebook-cell:/Users/mikaheelyamaguchi/Desktop/PBl%EF%BC%95/Yoo/code/Saeed/train.ipynb#W2sZmlsZQ%3D%3D?line=7'>8</a>\u001b[0m     seq_data \u001b[39m=\u001b[39m np\u001b[39m.\u001b[39mload(\u001b[39mf\u001b[39m\u001b[39m\"\u001b[39m\u001b[39m{\u001b[39;00mdataset_path\u001b[39m}\u001b[39;00m\u001b[39mseq_\u001b[39m\u001b[39m{\u001b[39;00maction\u001b[39m}\u001b[39;00m\u001b[39m.npy\u001b[39m\u001b[39m\"\u001b[39m)\n\u001b[1;32m      <a href='vscode-notebook-cell:/Users/mikaheelyamaguchi/Desktop/PBl%EF%BC%95/Yoo/code/Saeed/train.ipynb#W2sZmlsZQ%3D%3D?line=8'>9</a>\u001b[0m     X\u001b[39m.\u001b[39mappend(raw_data)\n",
      "File \u001b[0;32m/Library/Frameworks/Python.framework/Versions/3.10/lib/python3.10/site-packages/numpy/lib/npyio.py:405\u001b[0m, in \u001b[0;36mload\u001b[0;34m(file, mmap_mode, allow_pickle, fix_imports, encoding, max_header_size)\u001b[0m\n\u001b[1;32m    403\u001b[0m     own_fid \u001b[39m=\u001b[39m \u001b[39mFalse\u001b[39;00m\n\u001b[1;32m    404\u001b[0m \u001b[39melse\u001b[39;00m:\n\u001b[0;32m--> 405\u001b[0m     fid \u001b[39m=\u001b[39m stack\u001b[39m.\u001b[39menter_context(\u001b[39mopen\u001b[39;49m(os_fspath(file), \u001b[39m\"\u001b[39;49m\u001b[39mrb\u001b[39;49m\u001b[39m\"\u001b[39;49m))\n\u001b[1;32m    406\u001b[0m     own_fid \u001b[39m=\u001b[39m \u001b[39mTrue\u001b[39;00m\n\u001b[1;32m    408\u001b[0m \u001b[39m# Code to distinguish from NumPy binary files and pickles.\u001b[39;00m\n",
      "\u001b[0;31mFileNotFoundError\u001b[0m: [Errno 2] No such file or directory: 'dataset/raw_action1.npy'"
     ]
    }
   ],
   "source": [
    "# Prepare the data\n",
    "seq_length = 10\n",
    "X = []\n",
    "y = []\n",
    "\n",
    "for action in actions:\n",
    "    raw_data = np.load(f\"{dataset_path}raw_{action}.npy\")\n",
    "    seq_data = np.load(f\"{dataset_path}seq_{action}.npy\")\n",
    "    X.append(raw_data)\n",
    "    y.append(seq_data)\n",
    "\n",
    "X = np.concatenate(X, axis=0)\n",
    "y = np.concatenate(y, axis=0)"
   ]
  },
  {
   "cell_type": "code",
   "execution_count": null,
   "metadata": {},
   "outputs": [],
   "source": [
    "# Split data into training and validation sets\n",
    "X_train, X_val, y_train, y_val = train_test_split(X, y, test_size=0.2, random_state=42)\n"
   ]
  },
  {
   "cell_type": "code",
   "execution_count": null,
   "metadata": {},
   "outputs": [],
   "source": [
    "# Define the LSTM model\n",
    "model = keras.Sequential([\n",
    "    keras.layers.LSTM(64, return_sequences=True, input_shape=(X.shape[1], X.shape[2])),\n",
    "    keras.layers.LSTM(64),\n",
    "    keras.layers.Dense(64, activation='relu'),\n",
    "    keras.layers.Dense(seq_length * 3)  # Output layer with flattened landmarks (seq_length * 3 features)\n",
    "])\n"
   ]
  },
  {
   "cell_type": "code",
   "execution_count": null,
   "metadata": {},
   "outputs": [],
   "source": [
    "# Compile the model\n",
    "model.compile(optimizer='adam', loss='mse')"
   ]
  },
  {
   "cell_type": "code",
   "execution_count": null,
   "metadata": {},
   "outputs": [],
   "source": [
    "# Train the model\n",
    "model.fit(X_train, y_train, validation_data=(X_val, y_val), epochs=10, batch_size=64)\n"
   ]
  },
  {
   "cell_type": "code",
   "execution_count": null,
   "metadata": {},
   "outputs": [],
   "source": [
    "# Save the trained model\n",
    "model.save('trained_model.h5')"
   ]
  }
 ],
 "metadata": {
  "kernelspec": {
   "display_name": "Python 3",
   "language": "python",
   "name": "python3"
  },
  "language_info": {
   "codemirror_mode": {
    "name": "ipython",
    "version": 3
   },
   "file_extension": ".py",
   "mimetype": "text/x-python",
   "name": "python",
   "nbconvert_exporter": "python",
   "pygments_lexer": "ipython3",
   "version": "3.10.4"
  },
  "orig_nbformat": 4
 },
 "nbformat": 4,
 "nbformat_minor": 2
}
